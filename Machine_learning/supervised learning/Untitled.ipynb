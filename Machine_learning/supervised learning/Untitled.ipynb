{
 "cells": [
  {
   "cell_type": "code",
   "execution_count": null,
   "id": "a00c2871",
   "metadata": {},
   "outputs": [],
   "source": []
  }
 ],
 "metadata": {
  "kernelspec": {
   "display_name": "mahdi",
   "language": "python",
   "name": "mahdi"
  }
 },
 "nbformat": 4,
 "nbformat_minor": 5
}
