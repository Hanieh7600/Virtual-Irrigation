{
 "cells": [
  {
   "cell_type": "code",
   "execution_count": 1,
   "source": [
    "#imports \r\n",
    "import fiona\r\n",
    "import rasterio\r\n",
    "import matplotlib.pyplot as plt\r\n",
    "import numpy"
   ],
   "outputs": [],
   "metadata": {}
  },
  {
   "cell_type": "code",
   "execution_count": 3,
   "source": [
    "# To crop image\r\n",
    "def clip_by_shape(rasterpath , shapepath):\r\n",
    "    with fiona.open(shapepath , 'r') as shapefile:\r\n",
    "        shapes = [feature['geometry'] for feature in shapefile]\r\n",
    "    with rasterio.open(rasterpath) as src:\r\n",
    "        out_image , out_transfor = rasterio.mask.mask(src , shapes , crop = True)\r\n",
    "    return out_image\r\n",
    "\r\n",
    "image_path = 'E:/Company/KAVOSHGARAN/Virtual Irrigation/Blue.tif'\r\n",
    "shape_path = 'E:/Company/KAVOSHGARAN/Virtual Irrigation/khozestan.shp'"
   ],
   "outputs": [],
   "metadata": {}
  },
  {
   "cell_type": "code",
   "execution_count": 5,
   "source": [
    "clip_by_shape(image_path , shape_path)"
   ],
   "outputs": [],
   "metadata": {}
  },
  {
   "cell_type": "code",
   "execution_count": 9,
   "source": [
    "image = clip_by_shape(image_path , shape_path)\r\n",
    "plt.plot()\r\n",
    "plt.imshow(image[0] , cmap = 'gray')\r\n",
    "# plt.show()\r\n"
   ],
   "outputs": [],
   "metadata": {}
  },
  {
   "cell_type": "code",
   "execution_count": null,
   "source": [],
   "outputs": [],
   "metadata": {}
  }
 ],
 "metadata": {
  "kernelspec": {
   "display_name": "Python 3 (ipykernel)",
   "language": "python",
   "name": "python3"
  },
  "language_info": {
   "codemirror_mode": {
    "name": "ipython",
    "version": 3
   },
   "file_extension": ".py",
   "mimetype": "text/x-python",
   "name": "python",
   "nbconvert_exporter": "python",
   "pygments_lexer": "ipython3",
   "version": "3.9.6"
  }
 },
 "nbformat": 4,
 "nbformat_minor": 5
}