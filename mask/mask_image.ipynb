{
 "cells": [
  {
   "cell_type": "code",
   "execution_count": 1,
   "id": "90893186",
   "metadata": {},
   "outputs": [],
   "source": [
    "#imports \n",
    "import fiona\n",
    "import rasterio\n",
    "import matplotlib.pyplot as plt"
   ]
  },
  {
   "cell_type": "code",
   "execution_count": 3,
   "id": "8cf49149",
   "metadata": {},
   "outputs": [],
   "source": [
    "# To crop image\n",
    "def clip_by_shape(rasterpath , shapepath):\n",
    "    with fiona.open(shapepath , 'r') as shapefile:\n",
    "        shapes = [feature['geometry'] for feature in shapefile]\n",
    "    with rasterio.open(rasterpath) as src:\n",
    "        out_image , out_transfor = rasterio.mask.mask(src , shapes , crop = True)\n",
    "    return out_image\n",
    "\n",
    "image_path = 'E:/Company/KAVOSHGARAN/Virtual Irrigation/Blue.tif'\n",
    "shape_path = 'E:/Company/KAVOSHGARAN/Virtual Irrigation/khozestan.shp'"
   ]
  },
  {
   "cell_type": "code",
   "execution_count": 5,
   "id": "61d6b2a1",
   "metadata": {},
   "outputs": [],
   "source": [
    "clip_by_shape(image_path , shape_path)"
   ]
  },
  {
   "cell_type": "code",
   "execution_count": 9,
   "id": "16e2e9e2",
   "metadata": {},
   "outputs": [],
   "source": [
    "image = clip_by_shape(image_path , shape_path)\n",
    "plt.plot()\n",
    "plt.imshow(image[0] , cmap = 'gray')\n",
    "# plt.show()\n"
   ]
  },
  {
   "cell_type": "code",
   "execution_count": null,
   "id": "2ea6114f",
   "metadata": {},
   "outputs": [],
   "source": []
  }
 ],
 "metadata": {
  "kernelspec": {
   "display_name": "Python 3 (ipykernel)",
   "language": "python",
   "name": "python3"
  },
  "language_info": {
   "codemirror_mode": {
    "name": "ipython",
    "version": 3
   },
   "file_extension": ".py",
   "mimetype": "text/x-python",
   "name": "python",
   "nbconvert_exporter": "python",
   "pygments_lexer": "ipython3",
   "version": "3.9.6"
  }
 },
 "nbformat": 4,
 "nbformat_minor": 5
}
